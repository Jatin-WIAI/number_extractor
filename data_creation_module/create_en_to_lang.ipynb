{
 "cells": [
  {
   "cell_type": "code",
   "execution_count": 17,
   "metadata": {},
   "outputs": [],
   "source": [
    "import json\n",
    "from num_to_words import num_to_word\n",
    "from num2words import num2words"
   ]
  },
  {
   "cell_type": "code",
   "execution_count": 18,
   "metadata": {},
   "outputs": [],
   "source": [
    "en_to_lang_dict = {}"
   ]
  },
  {
   "cell_type": "code",
   "execution_count": 19,
   "metadata": {},
   "outputs": [],
   "source": [
    "lang = \"mr\""
   ]
  },
  {
   "cell_type": "code",
   "execution_count": 20,
   "metadata": {},
   "outputs": [],
   "source": [
    "for i in range(0,101):\n",
    "    en_to_lang_dict[num2words(i).replace(\"-\",\" \").replace(\",\",\" \")]=[num_to_word(i,lang)]"
   ]
  },
  {
   "cell_type": "code",
   "execution_count": 21,
   "metadata": {},
   "outputs": [],
   "source": [
    "for i in range(200,1001,100):\n",
    "    en_to_lang_dict[num2words(i).replace(\"-\",\" \").replace(\",\",\" \")]=[num_to_word(i,lang)]"
   ]
  },
  {
   "cell_type": "code",
   "execution_count": 23,
   "metadata": {},
   "outputs": [],
   "source": [
    "with open(\"/home/jatin/huggingface_demo/number_extractor/util_data/mr_en_to_lang_dict.json\",\"w\") as f:\n",
    "    json.dump(en_to_lang_dict,f,ensure_ascii=False)"
   ]
  }
 ],
 "metadata": {
  "interpreter": {
   "hash": "95337034d0a769af43998daf418a6ad64f501b05a6cf20ec46402fb04593a164"
  },
  "kernelspec": {
   "display_name": "Python 3.9.12 ('venv-cotton': venv)",
   "language": "python",
   "name": "python3"
  },
  "language_info": {
   "codemirror_mode": {
    "name": "ipython",
    "version": 3
   },
   "file_extension": ".py",
   "mimetype": "text/x-python",
   "name": "python",
   "nbconvert_exporter": "python",
   "pygments_lexer": "ipython3",
   "version": "3.9.12"
  },
  "orig_nbformat": 4
 },
 "nbformat": 4,
 "nbformat_minor": 2
}
