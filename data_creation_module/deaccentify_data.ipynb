{
 "cells": [
  {
   "cell_type": "code",
   "execution_count": 1,
   "metadata": {},
   "outputs": [],
   "source": [
    "import json\n",
    "lang = \"mr\"\n",
    "with open(\"/home/jatin/huggingface_demo/number_extractor/util_data/accents_list.json\",\"r\") as f:\n",
    "    accent_dict = json.load(f)[\"mr\"]"
   ]
  },
  {
   "cell_type": "code",
   "execution_count": 2,
   "metadata": {},
   "outputs": [],
   "source": [
    "files = ['/home/jatin/huggingface_demo/number_extractor/util_data/en_to_mr_dict.json',\n",
    " '/home/jatin/huggingface_demo/number_extractor/util_data/mr_wh_num_dict.json',\n",
    " \"/home/jatin/huggingface_demo/number_extractor/util_data/mr_frac_dict.json\"]"
   ]
  },
  {
   "cell_type": "code",
   "execution_count": 3,
   "metadata": {},
   "outputs": [],
   "source": [
    "for file in files:\n",
    "    with open(file,\"r\") as f:\n",
    "        data = json.load(f)\n",
    "        new_data = data\n",
    "        for k,v in data.items():\n",
    "            new_v = []\n",
    "            for x in v:\n",
    "                for acc,rep in accent_dict.items():\n",
    "                    x = x.replace(acc,rep)\n",
    "                new_v.append(x)\n",
    "            new_data[k] = list(set(v+new_v))\n",
    "    with open(file[:-5]+\"_deaccentified.json\",\"w\") as f:\n",
    "        json.dump(new_data,f,ensure_ascii=False)"
   ]
  },
  {
   "cell_type": "code",
   "execution_count": null,
   "metadata": {},
   "outputs": [],
   "source": []
  }
 ],
 "metadata": {
  "interpreter": {
   "hash": "95337034d0a769af43998daf418a6ad64f501b05a6cf20ec46402fb04593a164"
  },
  "kernelspec": {
   "display_name": "Python 3.9.12 ('venv-cotton': venv)",
   "language": "python",
   "name": "python3"
  },
  "language_info": {
   "codemirror_mode": {
    "name": "ipython",
    "version": 3
   },
   "file_extension": ".py",
   "mimetype": "text/x-python",
   "name": "python",
   "nbconvert_exporter": "python",
   "pygments_lexer": "ipython3",
   "version": "3.9.12"
  },
  "orig_nbformat": 4
 },
 "nbformat": 4,
 "nbformat_minor": 2
}
