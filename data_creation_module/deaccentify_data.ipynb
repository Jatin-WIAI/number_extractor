{
 "cells": [
  {
   "cell_type": "code",
   "execution_count": 10,
   "metadata": {},
   "outputs": [],
   "source": [
    "import json\n",
    "lang = \"hi\"\n",
    "with open(\"/home/jatin/number_extractor/util_data/accents_list.json\",\"r\") as f:\n",
    "    accent_dict = json.load(f)[lang]"
   ]
  },
  {
   "cell_type": "code",
   "execution_count": 11,
   "metadata": {},
   "outputs": [],
   "source": [
    "files = ['/home/jatin/number_extractor/util_data/hi_deci_keywords.json',\n",
    " '/home/jatin/number_extractor/util_data/hi_wh_num_dict.json',\n",
    " '/home/jatin/number_extractor/util_data/hi_frac_keywords.json']"
   ]
  },
  {
   "cell_type": "code",
   "execution_count": 12,
   "metadata": {},
   "outputs": [],
   "source": [
    "for file in files:\n",
    "    with open(file,\"r\") as f:\n",
    "        data = json.load(f)\n",
    "        new_data = data\n",
    "        for k,v in data.items():\n",
    "            new_v = []\n",
    "            for x in v:\n",
    "                x = x+\" \"\n",
    "                for acc,rep in accent_dict.items():\n",
    "                    x = x.replace(acc,rep)\n",
    "                x = x.lstrip().rstrip()\n",
    "                new_v.append(x)\n",
    "            new_data[k] = list(set(v+new_v))\n",
    "    with open(file[:-5]+\"_deaccentified.json\",\"w\") as f:\n",
    "        json.dump(new_data,f,ensure_ascii=False)"
   ]
  },
  {
   "cell_type": "code",
   "execution_count": null,
   "metadata": {},
   "outputs": [],
   "source": []
  },
  {
   "cell_type": "code",
   "execution_count": null,
   "metadata": {},
   "outputs": [],
   "source": []
  }
 ],
 "metadata": {
  "interpreter": {
   "hash": "2fc7fb0a0a68f3b33d0659875c763eae3c49907c506e1741a9e9210421c29367"
  },
  "kernelspec": {
   "display_name": "Python 3.9.16 ('cotton': virtualenv)",
   "language": "python",
   "name": "python3"
  },
  "language_info": {
   "codemirror_mode": {
    "name": "ipython",
    "version": 3
   },
   "file_extension": ".py",
   "mimetype": "text/x-python",
   "name": "python",
   "nbconvert_exporter": "python",
   "pygments_lexer": "ipython3",
   "version": "3.9.16"
  },
  "orig_nbformat": 4
 },
 "nbformat": 4,
 "nbformat_minor": 2
}
