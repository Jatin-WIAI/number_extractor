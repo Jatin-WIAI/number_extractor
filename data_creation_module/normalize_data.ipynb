{
 "cells": [
  {
   "cell_type": "code",
   "execution_count": 1,
   "metadata": {},
   "outputs": [],
   "source": [
    "import sys\n",
    "sys.path.append(\"/home/jatin/indic_lib\")\n",
    "sys.path.append(\"/home/jatin/indic_lib/indicTrans\")\n",
    "from indicTrans.inference.engine import Model\n",
    "import indicnlp\n",
    "normalizer = indicnlp.normalize.indic_normalize.DevanagariNormalizer()"
   ]
  },
  {
   "cell_type": "code",
   "execution_count": 8,
   "metadata": {},
   "outputs": [],
   "source": [
    "files = ['/home/jatin/huggingface_demo/number_extractor/util_data/en_to_mr_dict_deacentifined.json',\n",
    " '/home/jatin/huggingface_demo/number_extractor/util_data/mr_wh_num_dict_deacentifined.json']"
   ]
  },
  {
   "cell_type": "code",
   "execution_count": 9,
   "metadata": {},
   "outputs": [],
   "source": [
    "import json"
   ]
  },
  {
   "cell_type": "code",
   "execution_count": 10,
   "metadata": {},
   "outputs": [],
   "source": [
    "for file in files:\n",
    "    with open(file,\"r\") as f:\n",
    "        data = json.load(f)\n",
    "        new_data = {}\n",
    "        for k,v in data.items():\n",
    "            v = [normalizer.normalize(x) for x in v]\n",
    "            new_data[k] = v\n",
    "    with open(file,\"w\") as f:\n",
    "        json.dump(new_data,f,ensure_ascii=False)"
   ]
  },
  {
   "cell_type": "code",
   "execution_count": null,
   "metadata": {},
   "outputs": [],
   "source": []
  }
 ],
 "metadata": {
  "interpreter": {
   "hash": "95337034d0a769af43998daf418a6ad64f501b05a6cf20ec46402fb04593a164"
  },
  "kernelspec": {
   "display_name": "Python 3.9.12 ('venv-cotton': venv)",
   "language": "python",
   "name": "python3"
  },
  "language_info": {
   "codemirror_mode": {
    "name": "ipython",
    "version": 3
   },
   "file_extension": ".py",
   "mimetype": "text/x-python",
   "name": "python",
   "nbconvert_exporter": "python",
   "pygments_lexer": "ipython3",
   "version": "3.9.12"
  },
  "orig_nbformat": 4
 },
 "nbformat": 4,
 "nbformat_minor": 2
}
