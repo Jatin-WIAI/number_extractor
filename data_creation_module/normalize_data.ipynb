{
 "cells": [
  {
   "cell_type": "code",
   "execution_count": 15,
   "metadata": {},
   "outputs": [],
   "source": [
    "import sys\n",
    "sys.path.append(\"/home/jatin\")\n",
    "sys.path.append(\"/home/jatin/indicTrans\")\n",
    "from indicTrans.inference.engine import Model\n",
    "import indicnlp\n",
    "normalizer = indicnlp.normalize.indic_normalize.DevanagariNormalizer()"
   ]
  },
  {
   "cell_type": "code",
   "execution_count": 16,
   "metadata": {},
   "outputs": [],
   "source": [
    "files = ['/home/jatin/number_extractor/util_data/hi_deci_keywords_deaccentified.json',\n",
    " '/home/jatin/number_extractor/util_data/hi_wh_num_dict_deaccentified.json',\n",
    " \"/home/jatin/number_extractor/util_data/hi_frac_dict_deaccentified.json\"]"
   ]
  },
  {
   "cell_type": "code",
   "execution_count": 17,
   "metadata": {},
   "outputs": [],
   "source": [
    "import json"
   ]
  },
  {
   "cell_type": "code",
   "execution_count": 18,
   "metadata": {},
   "outputs": [],
   "source": [
    "for file in files:\n",
    "    with open(file,\"r\") as f:\n",
    "        data = json.load(f)\n",
    "        new_data = {}\n",
    "        for k,v in data.items():\n",
    "            v = [normalizer.normalize(x) for x in v]\n",
    "            new_data[k] = v\n",
    "    with open(file,\"w\") as f:\n",
    "        json.dump(new_data,f,ensure_ascii=False)"
   ]
  },
  {
   "cell_type": "code",
   "execution_count": null,
   "metadata": {},
   "outputs": [],
   "source": []
  }
 ],
 "metadata": {
  "interpreter": {
   "hash": "1d9a99b20962b59fe9a7166cdb0f47d33b5edfaaf85ddc8995f70f9ef5611e25"
  },
  "kernelspec": {
   "display_name": "Python 3.9.16 ('cotton': virtualenv)",
   "language": "python",
   "name": "python3"
  },
  "language_info": {
   "codemirror_mode": {
    "name": "ipython",
    "version": 3
   },
   "file_extension": ".py",
   "mimetype": "text/x-python",
   "name": "python",
   "nbconvert_exporter": "python",
   "pygments_lexer": "ipython3",
   "version": "3.9.16"
  },
  "orig_nbformat": 4
 },
 "nbformat": 4,
 "nbformat_minor": 2
}
