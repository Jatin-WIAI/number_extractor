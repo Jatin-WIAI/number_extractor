{
 "cells": [
  {
   "cell_type": "code",
   "execution_count": 20,
   "metadata": {},
   "outputs": [],
   "source": [
    "import numpy as np\n",
    "\n",
    "def extract_number_from_array(arr):\n",
    "    if len(arr)==2:\n",
    "        if arr[0]>arr[1]:\n",
    "            return arr[0]+arr[1]\n",
    "        else:\n",
    "            return arr[1]*arr[0]\n",
    "    if len(arr)==1:\n",
    "        return arr[0]\n",
    "    max_index = np.argmax(arr)\n",
    "    if max_index==0:\n",
    "        return arr[0]+extract_number_from_array(arr[1:])\n",
    "    elif max_index==len(arr)-1:\n",
    "        return arr[-1]*extract_number_from_array(arr[:-1])\n",
    "    else:\n",
    "        return arr[max_index]*extract_number_from_array(arr[:max_index])+extract_number_from_array(arr[max_index+1:])"
   ]
  },
  {
   "cell_type": "code",
   "execution_count": 10,
   "metadata": {},
   "outputs": [
    {
     "data": {
      "text/plain": [
       "94"
      ]
     },
     "execution_count": 10,
     "metadata": {},
     "output_type": "execute_result"
    }
   ],
   "source": [
    "from word2number import w2n\n",
    "w2n.word_to_num('ninety four')"
   ]
  },
  {
   "cell_type": "code",
   "execution_count": 4,
   "metadata": {},
   "outputs": [],
   "source": [
    "import sys\n",
    "sys.path.append(\"/home/jatin/number_extractor/\")\n",
    "from number_extractor import NumberExtractor\n",
    "\n",
    "ne = NumberExtractor(\"hi\",use_translate=False,debug=False)"
   ]
  },
  {
   "cell_type": "code",
   "execution_count": 11,
   "metadata": {},
   "outputs": [],
   "source": [
    "def create_array_from_text(text):\n",
    "    words = [word for word in text.split(' ') if word!='']\n",
    "    arr = []\n",
    "    for word in words:\n",
    "        if word.isnumeric():\n",
    "            arr.append(float(word))\n",
    "    return arr"
   ]
  },
  {
   "cell_type": "code",
   "execution_count": 16,
   "metadata": {},
   "outputs": [
    {
     "data": {
      "text/plain": [
       "[2.0, 100000.0, 15.0, 1000.0, 12.0, 100.0, 21.0]"
      ]
     },
     "execution_count": 16,
     "metadata": {},
     "output_type": "execute_result"
    }
   ],
   "source": [
    "num_array = create_array_from_text(\"2 100000 15 1000 12 100 21\")\n",
    "num_array"
   ]
  },
  {
   "cell_type": "code",
   "execution_count": 18,
   "metadata": {},
   "outputs": [
    {
     "ename": "ValueError",
     "evalue": "attempt to get argmax of an empty sequence",
     "output_type": "error",
     "traceback": [
      "\u001b[0;31m---------------------------------------------------------------------------\u001b[0m",
      "\u001b[0;31mValueError\u001b[0m                                Traceback (most recent call last)",
      "Cell \u001b[0;32mIn[18], line 1\u001b[0m\n\u001b[0;32m----> 1\u001b[0m extract_number_from_array(num_array)\n",
      "Cell \u001b[0;32mIn[17], line 17\u001b[0m, in \u001b[0;36mextract_number_from_array\u001b[0;34m(arr)\u001b[0m\n\u001b[1;32m     15\u001b[0m     \u001b[39mreturn\u001b[39;00m arr[\u001b[39m-\u001b[39m\u001b[39m1\u001b[39m]\u001b[39m*\u001b[39mextract_number_from_array(arr[:\u001b[39m-\u001b[39m\u001b[39m1\u001b[39m])\n\u001b[1;32m     16\u001b[0m \u001b[39melse\u001b[39;00m:\n\u001b[0;32m---> 17\u001b[0m     \u001b[39mreturn\u001b[39;00m arr[max_index]\u001b[39m*\u001b[39mextract_number_from_array(arr[:max_index\u001b[39m-\u001b[39;49m\u001b[39m1\u001b[39;49m])\u001b[39m+\u001b[39mextract_number_from_array(arr[max_index\u001b[39m+\u001b[39m\u001b[39m1\u001b[39m:])\n",
      "Cell \u001b[0;32mIn[17], line 11\u001b[0m, in \u001b[0;36mextract_number_from_array\u001b[0;34m(arr)\u001b[0m\n\u001b[1;32m      9\u001b[0m \u001b[39mif\u001b[39;00m \u001b[39mlen\u001b[39m(arr)\u001b[39m==\u001b[39m\u001b[39m1\u001b[39m:\n\u001b[1;32m     10\u001b[0m     \u001b[39mreturn\u001b[39;00m arr[\u001b[39m0\u001b[39m]\n\u001b[0;32m---> 11\u001b[0m max_index \u001b[39m=\u001b[39m np\u001b[39m.\u001b[39;49margmax(arr)\n\u001b[1;32m     12\u001b[0m \u001b[39mif\u001b[39;00m max_index\u001b[39m==\u001b[39m\u001b[39m0\u001b[39m:\n\u001b[1;32m     13\u001b[0m     \u001b[39mreturn\u001b[39;00m arr[\u001b[39m0\u001b[39m]\u001b[39m+\u001b[39mextract_number_from_array(arr[\u001b[39m1\u001b[39m:])\n",
      "File \u001b[0;32m<__array_function__ internals>:180\u001b[0m, in \u001b[0;36margmax\u001b[0;34m(*args, **kwargs)\u001b[0m\n",
      "File \u001b[0;32m~/venvs/cotton/lib/python3.9/site-packages/numpy/core/fromnumeric.py:1216\u001b[0m, in \u001b[0;36margmax\u001b[0;34m(a, axis, out, keepdims)\u001b[0m\n\u001b[1;32m   1129\u001b[0m \u001b[39m\"\"\"\u001b[39;00m\n\u001b[1;32m   1130\u001b[0m \u001b[39mReturns the indices of the maximum values along an axis.\u001b[39;00m\n\u001b[1;32m   1131\u001b[0m \n\u001b[0;32m   (...)\u001b[0m\n\u001b[1;32m   1213\u001b[0m \u001b[39m(2, 1, 4)\u001b[39;00m\n\u001b[1;32m   1214\u001b[0m \u001b[39m\"\"\"\u001b[39;00m\n\u001b[1;32m   1215\u001b[0m kwds \u001b[39m=\u001b[39m {\u001b[39m'\u001b[39m\u001b[39mkeepdims\u001b[39m\u001b[39m'\u001b[39m: keepdims} \u001b[39mif\u001b[39;00m keepdims \u001b[39mis\u001b[39;00m \u001b[39mnot\u001b[39;00m np\u001b[39m.\u001b[39m_NoValue \u001b[39melse\u001b[39;00m {}\n\u001b[0;32m-> 1216\u001b[0m \u001b[39mreturn\u001b[39;00m _wrapfunc(a, \u001b[39m'\u001b[39;49m\u001b[39margmax\u001b[39;49m\u001b[39m'\u001b[39;49m, axis\u001b[39m=\u001b[39;49maxis, out\u001b[39m=\u001b[39;49mout, \u001b[39m*\u001b[39;49m\u001b[39m*\u001b[39;49mkwds)\n",
      "File \u001b[0;32m~/venvs/cotton/lib/python3.9/site-packages/numpy/core/fromnumeric.py:54\u001b[0m, in \u001b[0;36m_wrapfunc\u001b[0;34m(obj, method, *args, **kwds)\u001b[0m\n\u001b[1;32m     52\u001b[0m bound \u001b[39m=\u001b[39m \u001b[39mgetattr\u001b[39m(obj, method, \u001b[39mNone\u001b[39;00m)\n\u001b[1;32m     53\u001b[0m \u001b[39mif\u001b[39;00m bound \u001b[39mis\u001b[39;00m \u001b[39mNone\u001b[39;00m:\n\u001b[0;32m---> 54\u001b[0m     \u001b[39mreturn\u001b[39;00m _wrapit(obj, method, \u001b[39m*\u001b[39;49margs, \u001b[39m*\u001b[39;49m\u001b[39m*\u001b[39;49mkwds)\n\u001b[1;32m     56\u001b[0m \u001b[39mtry\u001b[39;00m:\n\u001b[1;32m     57\u001b[0m     \u001b[39mreturn\u001b[39;00m bound(\u001b[39m*\u001b[39margs, \u001b[39m*\u001b[39m\u001b[39m*\u001b[39mkwds)\n",
      "File \u001b[0;32m~/venvs/cotton/lib/python3.9/site-packages/numpy/core/fromnumeric.py:43\u001b[0m, in \u001b[0;36m_wrapit\u001b[0;34m(obj, method, *args, **kwds)\u001b[0m\n\u001b[1;32m     41\u001b[0m \u001b[39mexcept\u001b[39;00m \u001b[39mAttributeError\u001b[39;00m:\n\u001b[1;32m     42\u001b[0m     wrap \u001b[39m=\u001b[39m \u001b[39mNone\u001b[39;00m\n\u001b[0;32m---> 43\u001b[0m result \u001b[39m=\u001b[39m \u001b[39mgetattr\u001b[39;49m(asarray(obj), method)(\u001b[39m*\u001b[39;49margs, \u001b[39m*\u001b[39;49m\u001b[39m*\u001b[39;49mkwds)\n\u001b[1;32m     44\u001b[0m \u001b[39mif\u001b[39;00m wrap:\n\u001b[1;32m     45\u001b[0m     \u001b[39mif\u001b[39;00m \u001b[39mnot\u001b[39;00m \u001b[39misinstance\u001b[39m(result, mu\u001b[39m.\u001b[39mndarray):\n",
      "\u001b[0;31mValueError\u001b[0m: attempt to get argmax of an empty sequence"
     ]
    }
   ],
   "source": [
    "extract_number_from_array(num_array)"
   ]
  },
  {
   "cell_type": "code",
   "execution_count": 21,
   "metadata": {},
   "outputs": [
    {
     "data": {
      "text/plain": [
       "16221.0"
      ]
     },
     "execution_count": 21,
     "metadata": {},
     "output_type": "execute_result"
    }
   ],
   "source": [
    "arr = [15.0, 1000.0, 12.0, 100.0, 21.0]\n",
    "extract_number_from_array(arr)"
   ]
  },
  {
   "cell_type": "code",
   "execution_count": null,
   "metadata": {},
   "outputs": [],
   "source": [
    "15000"
   ]
  },
  {
   "cell_type": "code",
   "execution_count": 1,
   "metadata": {},
   "outputs": [],
   "source": []
  },
  {
   "cell_type": "code",
   "execution_count": 2,
   "metadata": {},
   "outputs": [
    {
     "data": {
      "text/plain": [
       "200000.0"
      ]
     },
     "execution_count": 2,
     "metadata": {},
     "output_type": "execute_result"
    }
   ],
   "source": [
    "ne.extract_number(\"दो लाख पंजाबी रुपये\")"
   ]
  },
  {
   "cell_type": "code",
   "execution_count": 10,
   "metadata": {},
   "outputs": [
    {
     "name": "stderr",
     "output_type": "stream",
     "text": [
      "100%|██████████| 1/1 [00:00<00:00, 26.40it/s]\n",
      "100%|██████████| 1/1 [00:00<00:00, 32.02it/s]\n"
     ]
    },
    {
     "data": {
      "text/plain": [
       "[{'original': {'number_list': [16.0, 215621.0],\n",
       "   'normalized_text': '16 करोड़ 215621',\n",
       "   'original_text': 'सोलह करोड़ दो लाख पंद्रह हजार छः सौ इक्कीस'}},\n",
       " {'deaccentified': {'number_list': [16.0, 215621.0],\n",
       "   'normalized_text': '16 करोड़ 215621',\n",
       "   'original_text': 'सोला करोड़ दो लाख पद्रा हजार छः सौ इक्किस'}}]"
      ]
     },
     "execution_count": 10,
     "metadata": {},
     "output_type": "execute_result"
    }
   ],
   "source": [
    "ne.extract_all_numbers_and_normalized_text(\"सोलह करोड़ दो लाख पंद्रह हजार छः सौ इक्कीस\")"
   ]
  },
  {
   "cell_type": "code",
   "execution_count": 4,
   "metadata": {},
   "outputs": [],
   "source": [
    "text_list = [\n",
    "        \"सौ एकर जमीन है\",\n",
    "        \"पाँच सौ एकर जमीन है\",\n",
    "        \"पांचसौ एकर जमीन है\",\n",
    "        \"पाँच सौ सात एकर जमीन है\",\n",
    "        \"देढ़ एकर जमीन है\",\n",
    "        \"एक दशमलव तीन एकर जमीन है\",\n",
    "        \"501 एकर जमीन है\",\n",
    "        \"आधा एकर जमीन है\",\n",
    "        \"देढ़ एकर जमीन है\",\n",
    "        \"देड़ एकर\",\n",
    "        \"साढ़े छः एकड़ जमीन\",\n",
    "        \"मेरे पास साढ़े दस एकड़ जमीन है\",\n",
    "        \"निश्लसेलिशन चार सौ छः एकर जमीन है\",\n",
    "        \"दो हज़ार पाँच सौ तीस\",\n",
    "        \"पाँच सौ सैतालीस एकर जमीन है\",\n",
    "        \"मेरे पास पात सौ तीस एकर जमीन है\",\n",
    "        \"तिरपन\",\n",
    "        \"सैंतालिस\",\n",
    "        \"दो हज़ार पाँच सौ त्रेपन\",\n",
    "        \"देढ़ सौ एकर जमीन है\",\n",
    "        \"साढ़े छः सौ एकड़ जमीन\",\n",
    "        \"ग्यारह सौ एकर जमीन है\",\n",
    "        \"ढाई सो एकर जमीन\",\n",
    "        \"ढाईसो एकर जमीन\",\n",
    "        \"मेरे परिवार में कुल बारा लोग है\",\n",
    "        \"दो लाख पंद्रह हजार छः सौ इक्कीस\",\n",
    "        \"सोलह करोड़ दो लाख पंद्रह हजार छः सौ इक्कीस\",\n",
    "        \"एक दशमलव तीन एकर जमीन है\",\n",
    "        \"दो दशमलव तीन चार\"\n",
    "    ]"
   ]
  },
  {
   "cell_type": "code",
   "execution_count": 5,
   "metadata": {},
   "outputs": [
    {
     "name": "stderr",
     "output_type": "stream",
     "text": [
      "100%|██████████| 1/1 [00:00<00:00, 60.43it/s]\n",
      "100%|██████████| 1/1 [00:00<00:00, 83.57it/s]\n",
      "100%|██████████| 1/1 [00:00<00:00, 64.52it/s]\n",
      "100%|██████████| 1/1 [00:00<00:00, 66.49it/s]\n",
      "100%|██████████| 1/1 [00:00<00:00, 82.63it/s]\n",
      "100%|██████████| 1/1 [00:00<00:00, 79.87it/s]\n",
      "100%|██████████| 1/1 [00:00<00:00, 52.53it/s]\n",
      "100%|██████████| 1/1 [00:00<00:00, 55.74it/s]\n",
      "100%|██████████| 1/1 [00:00<00:00, 81.94it/s]\n",
      "100%|██████████| 1/1 [00:00<00:00, 84.01it/s]\n",
      "100%|██████████| 1/1 [00:00<00:00, 57.61it/s]\n",
      "100%|██████████| 1/1 [00:00<00:00, 56.87it/s]\n",
      "100%|██████████| 1/1 [00:00<00:00, 100.81it/s]\n",
      "100%|██████████| 1/1 [00:00<00:00, 103.21it/s]\n",
      "100%|██████████| 1/1 [00:00<00:00, 91.97it/s]"
     ]
    },
    {
     "name": "stdout",
     "output_type": "stream",
     "text": [
      "सौ एकर जमीन है 100.0\n",
      "पाँच सौ एकर जमीन है 500.0\n",
      "पांचसौ एकर जमीन है 500.0\n",
      "पाँच सौ सात एकर जमीन है 507.0\n",
      "देढ़ एकर जमीन है 1.5\n",
      "एक दशमलव तीन एकर जमीन है 1.3\n",
      "501 एकर जमीन है 501.0\n"
     ]
    },
    {
     "name": "stderr",
     "output_type": "stream",
     "text": [
      "\n",
      "100%|██████████| 1/1 [00:00<00:00, 78.01it/s]\n",
      "100%|██████████| 1/1 [00:00<00:00, 76.81it/s]\n",
      "100%|██████████| 1/1 [00:00<00:00, 82.98it/s]\n",
      "100%|██████████| 1/1 [00:00<00:00, 110.08it/s]\n",
      "100%|██████████| 1/1 [00:00<00:00, 104.45it/s]\n",
      "100%|██████████| 1/1 [00:00<00:00, 68.65it/s]\n",
      "100%|██████████| 1/1 [00:00<00:00, 71.68it/s]\n",
      "100%|██████████| 1/1 [00:00<00:00, 50.48it/s]\n",
      "100%|██████████| 1/1 [00:00<00:00, 52.46it/s]\n",
      "100%|██████████| 1/1 [00:00<00:00, 44.54it/s]\n",
      "100%|██████████| 1/1 [00:00<00:00, 47.23it/s]\n",
      "100%|██████████| 1/1 [00:00<00:00, 54.22it/s]\n",
      "  0%|          | 0/1 [00:00<?, ?it/s]"
     ]
    },
    {
     "name": "stdout",
     "output_type": "stream",
     "text": [
      "आधा एकर जमीन है 0.5\n",
      "देढ़ एकर जमीन है 1.5\n",
      "देड़ एकर 1.5\n",
      "साढ़े छः एकड़ जमीन 6.5\n",
      "मेरे पास साढ़े दस एकड़ जमीन है 10.5\n",
      "निश्लसेलिशन चार सौ छः एकर जमीन है 406.0\n"
     ]
    },
    {
     "name": "stderr",
     "output_type": "stream",
     "text": [
      "100%|██████████| 1/1 [00:00<00:00, 58.47it/s]\n",
      "100%|██████████| 1/1 [00:00<00:00, 50.11it/s]\n",
      "100%|██████████| 1/1 [00:00<00:00, 50.19it/s]\n",
      "100%|██████████| 1/1 [00:00<00:00, 46.98it/s]\n",
      "100%|██████████| 1/1 [00:00<00:00, 47.90it/s]\n",
      "100%|██████████| 1/1 [00:00<00:00, 136.86it/s]\n",
      "100%|██████████| 1/1 [00:00<00:00, 137.49it/s]\n",
      "100%|██████████| 1/1 [00:00<00:00, 130.34it/s]\n",
      "100%|██████████| 1/1 [00:00<00:00, 118.13it/s]\n",
      "100%|██████████| 1/1 [00:00<00:00, 53.31it/s]\n",
      "100%|██████████| 1/1 [00:00<00:00, 50.67it/s]\n",
      "100%|██████████| 1/1 [00:00<00:00, 68.09it/s]\n",
      "100%|██████████| 1/1 [00:00<00:00, 70.97it/s]\n",
      "  0%|          | 0/1 [00:00<?, ?it/s]"
     ]
    },
    {
     "name": "stdout",
     "output_type": "stream",
     "text": [
      "दो हज़ार पाँच सौ तीस 2530.0\n",
      "पाँच सौ सैतालीस एकर जमीन है 547.0\n",
      "मेरे पास पात सौ तीस एकर जमीन है 100.0\n",
      "तिरपन -1\n",
      "सैंतालिस 47.0\n",
      "दो हज़ार पाँच सौ त्रेपन 2553.0\n",
      "देढ़ सौ एकर जमीन है 150.0\n"
     ]
    },
    {
     "name": "stderr",
     "output_type": "stream",
     "text": [
      "100%|██████████| 1/1 [00:00<00:00, 59.60it/s]\n",
      "100%|██████████| 1/1 [00:00<00:00, 59.26it/s]\n",
      "100%|██████████| 1/1 [00:00<00:00, 61.65it/s]\n",
      "100%|██████████| 1/1 [00:00<00:00, 64.04it/s]\n",
      "100%|██████████| 1/1 [00:00<00:00, 87.67it/s]\n",
      "100%|██████████| 1/1 [00:00<00:00, 81.62it/s]\n",
      "100%|██████████| 1/1 [00:00<00:00, 97.23it/s]\n",
      "100%|██████████| 1/1 [00:00<00:00, 91.36it/s]\n",
      "100%|██████████| 1/1 [00:00<00:00, 55.76it/s]\n",
      "100%|██████████| 1/1 [00:00<00:00, 56.59it/s]\n",
      "100%|██████████| 1/1 [00:00<00:00, 40.44it/s]\n",
      "100%|██████████| 1/1 [00:00<00:00, 42.11it/s]\n",
      "100%|██████████| 1/1 [00:00<00:00, 34.96it/s]"
     ]
    },
    {
     "name": "stdout",
     "output_type": "stream",
     "text": [
      "साढ़े छः सौ एकड़ जमीन 650.0\n",
      "ग्यारह सौ एकर जमीन है 1100.0\n",
      "ढाई सो एकर जमीन 250.0\n",
      "ढाईसो एकर जमीन 250.0\n",
      "मेरे परिवार में कुल बारा लोग है 12.0\n",
      "दो लाख पंद्रह हजार छः सौ इक्कीस 215621.0\n"
     ]
    },
    {
     "name": "stderr",
     "output_type": "stream",
     "text": [
      "\n",
      "100%|██████████| 1/1 [00:00<00:00, 36.00it/s]\n",
      "100%|██████████| 1/1 [00:00<00:00, 53.90it/s]\n",
      "100%|██████████| 1/1 [00:00<00:00, 54.42it/s]\n",
      "100%|██████████| 1/1 [00:00<00:00, 62.63it/s]\n",
      "  0%|          | 0/1 [00:00<?, ?it/s]"
     ]
    },
    {
     "name": "stdout",
     "output_type": "stream",
     "text": [
      "सोलह करोड़ दो लाख पंद्रह हजार छः सौ इक्कीस 215621.0\n",
      "एक दशमलव तीन एकर जमीन है 1.3\n",
      "दो दशमलव तीन चार 2.34\n"
     ]
    },
    {
     "name": "stderr",
     "output_type": "stream",
     "text": [
      "\n"
     ]
    }
   ],
   "source": [
    "for text in text_list:\n",
    "    print(text,ne.extract_number(text))"
   ]
  },
  {
   "cell_type": "code",
   "execution_count": 1,
   "metadata": {},
   "outputs": [],
   "source": [
    "import pandas as pd\n",
    "\n",
    "df = pd.read_csv(\"/home/jatin/data/synthetic_speech/v6/train/metadata.csv\")\n"
   ]
  },
  {
   "cell_type": "code",
   "execution_count": 2,
   "metadata": {},
   "outputs": [],
   "source": [
    "labels = list(df[\"label\"])"
   ]
  },
  {
   "cell_type": "code",
   "execution_count": 4,
   "metadata": {},
   "outputs": [
    {
     "name": "stderr",
     "output_type": "stream",
     "text": [
      "100%|██████████| 50000/50000 [30:30<00:00, 27.31it/s]\n"
     ]
    }
   ],
   "source": [
    "from tqdm import tqdm\n",
    "ext_numbers = []\n",
    "for label in tqdm(labels):\n",
    "    ext_numbers.append(ne.extract_number(label))"
   ]
  },
  {
   "cell_type": "code",
   "execution_count": 5,
   "metadata": {},
   "outputs": [],
   "source": [
    "label_numbers = list(df[\"label_number\"])"
   ]
  },
  {
   "cell_type": "code",
   "execution_count": 6,
   "metadata": {},
   "outputs": [],
   "source": [
    "dissimilar = []\n",
    "for i in range(len(labels)):\n",
    "    if label_numbers[i]!=ext_numbers[i]:\n",
    "        dissimilar.append((labels[i],label_numbers[i],ext_numbers[i]))"
   ]
  },
  {
   "cell_type": "code",
   "execution_count": 7,
   "metadata": {},
   "outputs": [
    {
     "name": "stdout",
     "output_type": "stream",
     "text": [
      "0.00182\n"
     ]
    }
   ],
   "source": [
    "print(len(dissimilar)/len(labels))"
   ]
  },
  {
   "cell_type": "code",
   "execution_count": 8,
   "metadata": {},
   "outputs": [
    {
     "data": {
      "text/plain": [
       "[('मेरे पास सून्य उमडघुमड भूटिट्यां है', 0.0, -1),\n",
       " ('गिरिारज सून्य दसमलव सून्य लोंगपीइंग', 0.0, -1),\n",
       " ('सून्य काष्ठगारों गमबर्ग है', 0.0, -1),\n",
       " ('सून्य हेरेव', 0.0, -1),\n",
       " ('सून्य बिजनेसकाउंसिल', 0.0, -1),\n",
       " ('सून्य दसमलव सून्य पुराविद्या लगा', 0.0, -1),\n",
       " ('सून्य ख़रूती सिखायंे', 0.0, -1),\n",
       " ('सून्य दसमलव सून्य ग़ज़लइस बद्दोवाला है', 0.0, -1),\n",
       " ('डेरलिंपल सून्य दसमलव सून्य ऊपरचढ़ाकर', 0.0, -1),\n",
       " ('सून्य दसमलव सून्य जामतावर अनिर्णयकी', 0.0, -1),\n",
       " ('मैंने सून्य गरनीम येपोकापा इस्तेमाल दिया', 0.0, -1),\n",
       " ('सून्य श्रीमद्भागत्के रामभंवरी लगा', 0.0, -1),\n",
       " ('मेरे पास सून्य दसमलव सून्य उनकेनिकट सुखगाथा है', 0.0, -1),\n",
       " ('सून्य नोर्मिली लगा', 0.0, -1),\n",
       " ('सून्य दसमलव सून्य हैसोर चीमलापल्ली', 0.0, -1),\n",
       " ('मुझे सून्य दसमलव सून्य समझेंगेडिब्बेवाला लगे', 0.0, -1),\n",
       " ('सून्य लालरांगबावला लगा', 0.0, -1),\n",
       " ('मेरे पास सून्य शर्मुश्शेख़ ऐनपुर है', 0.0, -1),\n",
       " ('सून्य', 0.0, -1),\n",
       " ('मैंने हज़ार सर्वोच्च्ता नेदुमंगड़ दिया', 1000.0, 0.0),\n",
       " ('मेरे पास सून्य पिकमी ठाकुरघर है', 0.0, -1),\n",
       " ('सून्य अष्टभुजाष्टकम लगा', 0.0, -1),\n",
       " ('मैंने सून्य कुणालबाबा अस्सौर उपयोग किया', 0.0, -1),\n",
       " ('सून्य दसमलव सून्य एक्विफायार्स मानेवन्द्र लगा', 0.0, -1),\n",
       " ('सून्य दसमलव सून्य डांकबगलेँ लगा', 0.0, -1),\n",
       " ('मुझे सून्य एसोचैत लगे', 0.0, -1),\n",
       " ('अंतर्विलाप सून्य दसमलव सून्य बिगड़ेअपराध', 0.0, -1),\n",
       " ('सून्य ़पड़ने', 0.0, -1),\n",
       " ('मुझे सून्य दसमलव सून्य ेजान लगे', 0.0, -1),\n",
       " ('सून्य यामीगौतम', 0.0, -1),\n",
       " ('मेरे पास सून्य ड्रायव्हिंगबाबत होलोव है', 0.0, -1),\n",
       " ('सून्य टास्टकिंग लगा', 0.0, -1),\n",
       " ('मुझे सून्य दसमलव सून्य ्बनाने फैकल्टीनेसहमतिदी लगा', 0.0, -1),\n",
       " ('मुझे सून्य ध्यानीमनीही लगे', 0.0, -1),\n",
       " ('मैंने सून्य मुददांे व्योेंग इस्तेमाल दिया', 0.0, -1),\n",
       " ('सून्य दसमलव सून्य', 0.0, -1),\n",
       " ('मैंने सून्य क्रोवला अबनीश्वर इस्तेमाल दिया', 0.0, -1),\n",
       " ('मुझे सून्य तिऊंरी फन्नौटी लगा', 0.0, -1),\n",
       " ('सून्य कारनलोस लगा', 0.0, -1),\n",
       " ('मैंने सून्य हरचैंका भटठ दिया', 0.0, -1),\n",
       " ('मैंने सून्य अज़ोफ़ पास्टर्माटम इस्तेमाल दिया', 0.0, -1),\n",
       " ('सून्य दसमलव सून्य संस्थाचालकांचेही', 0.0, -1),\n",
       " ('मुझे सून्य द्रव्यांश लगे', 0.0, -1),\n",
       " ('सून्य हिम्मतसिंका', 0.0, -1),\n",
       " ('सून्य दसमलव सून्य बुराईयोंके लगा', 0.0, -1),\n",
       " ('सून्य', 0.0, -1),\n",
       " ('मैंने सून्य प्रोवशनर सभापतिजन इस्तेमाल दिया', 0.0, -1),\n",
       " ('सून्य दसमलव सून्य दूसराप्र लगा', 0.0, -1),\n",
       " ('सून्य', 0.0, -1),\n",
       " ('हज़ार दरवाज़्ो बतरनी लगा', 1000.0, 0.0),\n",
       " ('मुझे सून्य दसमलव सून्य गयाराजाने लगे', 0.0, -1),\n",
       " ('सून्य दसमलव सून्य हिन्दुस्तानियाँ लगा', 0.0, -1),\n",
       " ('मेरे पास सून्य पठालाखेरा फैजियो है', 0.0, -1),\n",
       " ('मैंने सून्य रिब्बेनट्रॉप अनम्बर दिया', 0.0, -1),\n",
       " ('संक्षिप्तियाँ सून्य बिंद्राबणि', 0.0, -1),\n",
       " ('सून्य दसमलव सून्य जाएगासीमाओं लगा', 0.0, -1),\n",
       " ('काविषय सून्य वाण्ीा', 0.0, -1),\n",
       " ('सून्य दसमलव सून्य', 0.0, -1),\n",
       " ('सून्य गोष्ठीबाज लगा', 0.0, -1),\n",
       " ('सून्य दसमलव सून्य', 0.0, -1),\n",
       " ('मुझे सून्य दसमलव सून्य गोसेफ लगे', 0.0, -1),\n",
       " ('मुझे सून्य दसमलव सून्य बाउलाचेन लगे', 0.0, -1),\n",
       " ('सून्य दसमलव सून्य करालागुंड आईआईएफई है', 0.0, -1),\n",
       " ('मुझे सून्य दसमलव सून्य लाइसीम सुपरक्रूज़ लगा', 0.0, -1),\n",
       " ('सून्य', 0.0, -1),\n",
       " ('मैंने पचपन ँसो लुच्चेबाजी उपयोग किया', 55.0, 5500.0),\n",
       " ('मुझे सून्य दसमलव सून्य मजल्यावरच लगे', 0.0, -1),\n",
       " ('मुझे सून्य दसमलव सून्य कोरापूट गुआंगकेन लगा', 0.0, -1),\n",
       " ('मुझे सून्य प्रभुनाथ्र नावेलेस लगा', 0.0, -1),\n",
       " ('सून्य', 0.0, -1),\n",
       " ('सून्य कांटाखुशरी शर्वेश', 0.0, -1),\n",
       " ('सून्य टीएचडब्ल्यू लगा', 0.0, -1),\n",
       " ('मुझे सून्य ब्रेनोबे्रन लगे', 0.0, -1),\n",
       " ('मुझे सून्य दसमलव सून्य वाघजई लगे', 0.0, -1),\n",
       " ('सून्य दसमलव सून्य मार्मी', 0.0, -1),\n",
       " ('सून्य दसमलव सून्य विश्लेषकमंडल लगा', 0.0, -1),\n",
       " ('सूरजबलि सून्य दसमलव सून्य कार्यकर्त्याकडील', 0.0, -1),\n",
       " ('सून्य वेल्य', 0.0, -1),\n",
       " ('सून्य दसमलव सून्य लानाहम', 0.0, -1),\n",
       " ('मुझे सून्य अंगिठियां लगे', 0.0, -1),\n",
       " ('मुझे सून्य दसमलव सून्य बईब्रेशन लगे', 0.0, -1),\n",
       " ('मुझे सून्य भुजऊ मूढँना लगा', 0.0, -1),\n",
       " ('सून्य दसमलव सून्य लाइवटैग', 0.0, -1),\n",
       " ('सून्य एककमजोर', 0.0, -1),\n",
       " ('सून्य', 0.0, -1),\n",
       " ('मुझे सून्य ब्रहमांडो लगे', 0.0, -1),\n",
       " ('सून्य वफराल खमरी लगा', 0.0, -1),\n",
       " ('सून्य ईईपीडब्ल्यू', 0.0, -1),\n",
       " ('सून्य स्प्रवीर धुलहैंडी', 0.0, -1),\n",
       " ('मैंने सून्य दसमलव सून्य मगोल सरकवता इस्तेमाल दिया', 0.0, -1),\n",
       " ('मैंने पच्चिस जयदतर एकहज़ार इस्तेमाल किया', 25.0, 1000.0)]"
      ]
     },
     "execution_count": 8,
     "metadata": {},
     "output_type": "execute_result"
    }
   ],
   "source": [
    "dissimilar"
   ]
  },
  {
   "cell_type": "code",
   "execution_count": 12,
   "metadata": {},
   "outputs": [
    {
     "data": {
      "text/plain": [
       "['एक बीघा खेत है',\n",
       " 'मुझे दो महीने लगे',\n",
       " 'मैंने साढ़े दो ग्राम फ़र्टिलाइज़र उपयोग किया',\n",
       " 'मुझे साडे दस ग्राम खाद लगा',\n",
       " 'साढ़े बीस',\n",
       " 'मैंने साढ़े तीस लीटर पेस्टिसाइड उपयोग किया',\n",
       " 'मैंने साड़े चालीस डिब्बा कीटनाशक दिया',\n",
       " 'मैंने साढ़े पचास लीटर पानी इस्तेमाल किया',\n",
       " 'साढ़े साठ जून लगा',\n",
       " 'मुझे साडे अस्सि किलो पानी लगा',\n",
       " 'साढे नब्बे']"
      ]
     },
     "execution_count": 12,
     "metadata": {},
     "output_type": "execute_result"
    }
   ],
   "source": [
    "[x[0] for x in dissimilar]"
   ]
  },
  {
   "cell_type": "code",
   "execution_count": 2,
   "metadata": {},
   "outputs": [],
   "source": [
    "input =['एक बीघा खेत है',\n",
    " 'मुझे दो महीने लगे',\n",
    " 'मैंने साढ़े दो ग्राम फ़र्टिलाइज़र उपयोग किया',\n",
    " 'मुझे साडे दस ग्राम खाद लगा',\n",
    " 'साढ़े बीस',\n",
    " 'मैंने साढ़े तीस लीटर पेस्टिसाइड उपयोग किया',\n",
    " 'मैंने साड़े चालीस डिब्बा कीटनाशक दिया',\n",
    " 'मैंने साढ़े पचास लीटर पानी इस्तेमाल किया',\n",
    " 'साढ़े साठ जून लगा',\n",
    " 'मुझे साडे अस्सि किलो पानी लगा',\n",
    " 'साढे नब्बे']"
   ]
  },
  {
   "cell_type": "code",
   "execution_count": 3,
   "metadata": {},
   "outputs": [
    {
     "name": "stdout",
     "output_type": "stream",
     "text": [
      "एक बीघा खेत है 1.0\n",
      "मुझे दो महीने लगे 2.0\n",
      "मैंने साढ़े दो ग्राम फ़र्टिलाइज़र उपयोग किया 2.5\n",
      "मुझे साडे दस ग्राम खाद लगा 10.5\n",
      "साढ़े बीस 20.5\n",
      "मैंने साढ़े तीस लीटर पेस्टिसाइड उपयोग किया 30.5\n",
      "मैंने साड़े चालीस डिब्बा कीटनाशक दिया 40.5\n",
      "मैंने साढ़े पचास लीटर पानी इस्तेमाल किया 50.5\n",
      "साढ़े साठ जून लगा 60.5\n",
      "मुझे साडे अस्सि किलो पानी लगा 80.5\n",
      "साढे नब्बे 90.5\n"
     ]
    }
   ],
   "source": [
    "for i in input:\n",
    "    print(i,ne.extract_number(i))"
   ]
  },
  {
   "cell_type": "code",
   "execution_count": 1,
   "metadata": {},
   "outputs": [],
   "source": [
    "import sys\n",
    "sys.path.append(\"/home/jatin/number_extractor/\")\n",
    "from number_extractor import NumberExtractor\n",
    "\n",
    "ne = NumberExtractor(\"hi\",use_translate=False,debug=False)"
   ]
  },
  {
   "cell_type": "code",
   "execution_count": 3,
   "metadata": {},
   "outputs": [
    {
     "data": {
      "text/plain": [
       "[{'original': {'number_list': [8.5],\n",
       "   'normalized_text': '8.5',\n",
       "   'original_text': 'साढ़े आठ'}},\n",
       " {'deaccentified': {'number_list': [8.5],\n",
       "   'normalized_text': '8.5',\n",
       "   'original_text': 'साढे आठ'}}]"
      ]
     },
     "execution_count": 3,
     "metadata": {},
     "output_type": "execute_result"
    }
   ],
   "source": [
    "ne.extract_all_numbers_and_normalized_text(\"साढ़े आठ\")"
   ]
  },
  {
   "cell_type": "code",
   "execution_count": 1,
   "metadata": {},
   "outputs": [],
   "source": [
    "import sys\n",
    "sys.path.append(\"/home/jatin/number_extractor/\")\n",
    "from number_extractor import NumberExtractor\n",
    "\n",
    "ne = NumberExtractor(\"en\")"
   ]
  },
  {
   "cell_type": "code",
   "execution_count": 3,
   "metadata": {},
   "outputs": [
    {
     "name": "stderr",
     "output_type": "stream",
     "text": [
      "100%|██████████| 1/1 [00:00<00:00, 54.56it/s]\n"
     ]
    },
    {
     "data": {
      "text/plain": [
       "123.0"
      ]
     },
     "execution_count": 3,
     "metadata": {},
     "output_type": "execute_result"
    }
   ],
   "source": [
    "ne.extract_number(\"one hundred and twenty three\")"
   ]
  },
  {
   "cell_type": "code",
   "execution_count": null,
   "metadata": {},
   "outputs": [],
   "source": []
  }
 ],
 "metadata": {
  "kernelspec": {
   "display_name": "cotton",
   "language": "python",
   "name": "python3"
  },
  "language_info": {
   "codemirror_mode": {
    "name": "ipython",
    "version": 3
   },
   "file_extension": ".py",
   "mimetype": "text/x-python",
   "name": "python",
   "nbconvert_exporter": "python",
   "pygments_lexer": "ipython3",
   "version": "3.9.16"
  },
  "orig_nbformat": 4
 },
 "nbformat": 4,
 "nbformat_minor": 2
}
