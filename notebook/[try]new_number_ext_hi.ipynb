{
 "cells": [
  {
   "cell_type": "code",
   "execution_count": 20,
   "metadata": {},
   "outputs": [],
   "source": [
    "import numpy as np\n",
    "\n",
    "def extract_number_from_array(arr):\n",
    "    if len(arr)==2:\n",
    "        if arr[0]>arr[1]:\n",
    "            return arr[0]+arr[1]\n",
    "        else:\n",
    "            return arr[1]*arr[0]\n",
    "    if len(arr)==1:\n",
    "        return arr[0]\n",
    "    max_index = np.argmax(arr)\n",
    "    if max_index==0:\n",
    "        return arr[0]+extract_number_from_array(arr[1:])\n",
    "    elif max_index==len(arr)-1:\n",
    "        return arr[-1]*extract_number_from_array(arr[:-1])\n",
    "    else:\n",
    "        return arr[max_index]*extract_number_from_array(arr[:max_index])+extract_number_from_array(arr[max_index+1:])"
   ]
  },
  {
   "cell_type": "code",
   "execution_count": 10,
   "metadata": {},
   "outputs": [
    {
     "data": {
      "text/plain": [
       "94"
      ]
     },
     "execution_count": 10,
     "metadata": {},
     "output_type": "execute_result"
    }
   ],
   "source": [
    "from word2number import w2n\n",
    "w2n.word_to_num('ninety four')"
   ]
  },
  {
   "cell_type": "code",
   "execution_count": 11,
   "metadata": {},
   "outputs": [],
   "source": [
    "def create_array_from_text(text):\n",
    "    words = [word for word in text.split(' ') if word!='']\n",
    "    arr = []\n",
    "    for word in words:\n",
    "        if word.isnumeric():\n",
    "            arr.append(float(word))\n",
    "    return arr"
   ]
  },
  {
   "cell_type": "code",
   "execution_count": 16,
   "metadata": {},
   "outputs": [
    {
     "data": {
      "text/plain": [
       "[2.0, 100000.0, 15.0, 1000.0, 12.0, 100.0, 21.0]"
      ]
     },
     "execution_count": 16,
     "metadata": {},
     "output_type": "execute_result"
    }
   ],
   "source": [
    "num_array = create_array_from_text(\"2 100000 15 1000 12 100 21\")\n",
    "num_array"
   ]
  },
  {
   "cell_type": "code",
   "execution_count": 18,
   "metadata": {},
   "outputs": [
    {
     "ename": "ValueError",
     "evalue": "attempt to get argmax of an empty sequence",
     "output_type": "error",
     "traceback": [
      "\u001b[0;31m---------------------------------------------------------------------------\u001b[0m",
      "\u001b[0;31mValueError\u001b[0m                                Traceback (most recent call last)",
      "Cell \u001b[0;32mIn[18], line 1\u001b[0m\n\u001b[0;32m----> 1\u001b[0m extract_number_from_array(num_array)\n",
      "Cell \u001b[0;32mIn[17], line 17\u001b[0m, in \u001b[0;36mextract_number_from_array\u001b[0;34m(arr)\u001b[0m\n\u001b[1;32m     15\u001b[0m     \u001b[39mreturn\u001b[39;00m arr[\u001b[39m-\u001b[39m\u001b[39m1\u001b[39m]\u001b[39m*\u001b[39mextract_number_from_array(arr[:\u001b[39m-\u001b[39m\u001b[39m1\u001b[39m])\n\u001b[1;32m     16\u001b[0m \u001b[39melse\u001b[39;00m:\n\u001b[0;32m---> 17\u001b[0m     \u001b[39mreturn\u001b[39;00m arr[max_index]\u001b[39m*\u001b[39mextract_number_from_array(arr[:max_index\u001b[39m-\u001b[39;49m\u001b[39m1\u001b[39;49m])\u001b[39m+\u001b[39mextract_number_from_array(arr[max_index\u001b[39m+\u001b[39m\u001b[39m1\u001b[39m:])\n",
      "Cell \u001b[0;32mIn[17], line 11\u001b[0m, in \u001b[0;36mextract_number_from_array\u001b[0;34m(arr)\u001b[0m\n\u001b[1;32m      9\u001b[0m \u001b[39mif\u001b[39;00m \u001b[39mlen\u001b[39m(arr)\u001b[39m==\u001b[39m\u001b[39m1\u001b[39m:\n\u001b[1;32m     10\u001b[0m     \u001b[39mreturn\u001b[39;00m arr[\u001b[39m0\u001b[39m]\n\u001b[0;32m---> 11\u001b[0m max_index \u001b[39m=\u001b[39m np\u001b[39m.\u001b[39;49margmax(arr)\n\u001b[1;32m     12\u001b[0m \u001b[39mif\u001b[39;00m max_index\u001b[39m==\u001b[39m\u001b[39m0\u001b[39m:\n\u001b[1;32m     13\u001b[0m     \u001b[39mreturn\u001b[39;00m arr[\u001b[39m0\u001b[39m]\u001b[39m+\u001b[39mextract_number_from_array(arr[\u001b[39m1\u001b[39m:])\n",
      "File \u001b[0;32m<__array_function__ internals>:180\u001b[0m, in \u001b[0;36margmax\u001b[0;34m(*args, **kwargs)\u001b[0m\n",
      "File \u001b[0;32m~/venvs/cotton/lib/python3.9/site-packages/numpy/core/fromnumeric.py:1216\u001b[0m, in \u001b[0;36margmax\u001b[0;34m(a, axis, out, keepdims)\u001b[0m\n\u001b[1;32m   1129\u001b[0m \u001b[39m\"\"\"\u001b[39;00m\n\u001b[1;32m   1130\u001b[0m \u001b[39mReturns the indices of the maximum values along an axis.\u001b[39;00m\n\u001b[1;32m   1131\u001b[0m \n\u001b[0;32m   (...)\u001b[0m\n\u001b[1;32m   1213\u001b[0m \u001b[39m(2, 1, 4)\u001b[39;00m\n\u001b[1;32m   1214\u001b[0m \u001b[39m\"\"\"\u001b[39;00m\n\u001b[1;32m   1215\u001b[0m kwds \u001b[39m=\u001b[39m {\u001b[39m'\u001b[39m\u001b[39mkeepdims\u001b[39m\u001b[39m'\u001b[39m: keepdims} \u001b[39mif\u001b[39;00m keepdims \u001b[39mis\u001b[39;00m \u001b[39mnot\u001b[39;00m np\u001b[39m.\u001b[39m_NoValue \u001b[39melse\u001b[39;00m {}\n\u001b[0;32m-> 1216\u001b[0m \u001b[39mreturn\u001b[39;00m _wrapfunc(a, \u001b[39m'\u001b[39;49m\u001b[39margmax\u001b[39;49m\u001b[39m'\u001b[39;49m, axis\u001b[39m=\u001b[39;49maxis, out\u001b[39m=\u001b[39;49mout, \u001b[39m*\u001b[39;49m\u001b[39m*\u001b[39;49mkwds)\n",
      "File \u001b[0;32m~/venvs/cotton/lib/python3.9/site-packages/numpy/core/fromnumeric.py:54\u001b[0m, in \u001b[0;36m_wrapfunc\u001b[0;34m(obj, method, *args, **kwds)\u001b[0m\n\u001b[1;32m     52\u001b[0m bound \u001b[39m=\u001b[39m \u001b[39mgetattr\u001b[39m(obj, method, \u001b[39mNone\u001b[39;00m)\n\u001b[1;32m     53\u001b[0m \u001b[39mif\u001b[39;00m bound \u001b[39mis\u001b[39;00m \u001b[39mNone\u001b[39;00m:\n\u001b[0;32m---> 54\u001b[0m     \u001b[39mreturn\u001b[39;00m _wrapit(obj, method, \u001b[39m*\u001b[39;49margs, \u001b[39m*\u001b[39;49m\u001b[39m*\u001b[39;49mkwds)\n\u001b[1;32m     56\u001b[0m \u001b[39mtry\u001b[39;00m:\n\u001b[1;32m     57\u001b[0m     \u001b[39mreturn\u001b[39;00m bound(\u001b[39m*\u001b[39margs, \u001b[39m*\u001b[39m\u001b[39m*\u001b[39mkwds)\n",
      "File \u001b[0;32m~/venvs/cotton/lib/python3.9/site-packages/numpy/core/fromnumeric.py:43\u001b[0m, in \u001b[0;36m_wrapit\u001b[0;34m(obj, method, *args, **kwds)\u001b[0m\n\u001b[1;32m     41\u001b[0m \u001b[39mexcept\u001b[39;00m \u001b[39mAttributeError\u001b[39;00m:\n\u001b[1;32m     42\u001b[0m     wrap \u001b[39m=\u001b[39m \u001b[39mNone\u001b[39;00m\n\u001b[0;32m---> 43\u001b[0m result \u001b[39m=\u001b[39m \u001b[39mgetattr\u001b[39;49m(asarray(obj), method)(\u001b[39m*\u001b[39;49margs, \u001b[39m*\u001b[39;49m\u001b[39m*\u001b[39;49mkwds)\n\u001b[1;32m     44\u001b[0m \u001b[39mif\u001b[39;00m wrap:\n\u001b[1;32m     45\u001b[0m     \u001b[39mif\u001b[39;00m \u001b[39mnot\u001b[39;00m \u001b[39misinstance\u001b[39m(result, mu\u001b[39m.\u001b[39mndarray):\n",
      "\u001b[0;31mValueError\u001b[0m: attempt to get argmax of an empty sequence"
     ]
    }
   ],
   "source": [
    "extract_number_from_array(num_array)"
   ]
  },
  {
   "cell_type": "code",
   "execution_count": 21,
   "metadata": {},
   "outputs": [
    {
     "data": {
      "text/plain": [
       "16221.0"
      ]
     },
     "execution_count": 21,
     "metadata": {},
     "output_type": "execute_result"
    }
   ],
   "source": [
    "arr = [15.0, 1000.0, 12.0, 100.0, 21.0]\n",
    "extract_number_from_array(arr)"
   ]
  },
  {
   "cell_type": "code",
   "execution_count": null,
   "metadata": {},
   "outputs": [],
   "source": [
    "15000"
   ]
  },
  {
   "cell_type": "code",
   "execution_count": 8,
   "metadata": {},
   "outputs": [
    {
     "ename": "AssertionError",
     "evalue": "Language not supported",
     "output_type": "error",
     "traceback": [
      "\u001b[0;31m---------------------------------------------------------------------------\u001b[0m",
      "\u001b[0;31mAssertionError\u001b[0m                            Traceback (most recent call last)",
      "Cell \u001b[0;32mIn[8], line 5\u001b[0m\n\u001b[1;32m      2\u001b[0m sys\u001b[39m.\u001b[39mpath\u001b[39m.\u001b[39mappend(\u001b[39m\"\u001b[39m\u001b[39m/home/jatin/number_extractor/\u001b[39m\u001b[39m\"\u001b[39m)\n\u001b[1;32m      3\u001b[0m \u001b[39mfrom\u001b[39;00m \u001b[39mnumber_extractor\u001b[39;00m \u001b[39mimport\u001b[39;00m NumberExtractor\n\u001b[0;32m----> 5\u001b[0m ne \u001b[39m=\u001b[39m NumberExtractor(\u001b[39m\"\u001b[39;49m\u001b[39men\u001b[39;49m\u001b[39m\"\u001b[39;49m,use_translate\u001b[39m=\u001b[39;49m\u001b[39mFalse\u001b[39;49;00m,debug\u001b[39m=\u001b[39;49m\u001b[39mFalse\u001b[39;49;00m)\n",
      "File \u001b[0;32m~/number_extractor/number_extractor.py:7\u001b[0m, in \u001b[0;36mNumberExtractor.__init__\u001b[0;34m(self, lang, use_translate, translation_model_path, debug)\u001b[0m\n\u001b[1;32m      5\u001b[0m \u001b[39mdef\u001b[39;00m \u001b[39m__init__\u001b[39m(\u001b[39mself\u001b[39m, lang, use_translate \u001b[39m=\u001b[39m \u001b[39mFalse\u001b[39;00m, translation_model_path \u001b[39m=\u001b[39m \u001b[39m\"\u001b[39m\u001b[39m/home/jatin/indicTrans/indic-en\u001b[39m\u001b[39m\"\u001b[39m,debug \u001b[39m=\u001b[39m \u001b[39mFalse\u001b[39;00m) \u001b[39m-\u001b[39m\u001b[39m>\u001b[39m \u001b[39mNone\u001b[39;00m:\n\u001b[1;32m      6\u001b[0m     \u001b[39mself\u001b[39m\u001b[39m.\u001b[39msupported_langs \u001b[39m=\u001b[39m [\u001b[39m\"\u001b[39m\u001b[39mhi\u001b[39m\u001b[39m\"\u001b[39m,\u001b[39m\"\u001b[39m\u001b[39mmr\u001b[39m\u001b[39m\"\u001b[39m]\n\u001b[0;32m----> 7\u001b[0m     \u001b[39massert\u001b[39;00m lang \u001b[39min\u001b[39;00m \u001b[39mself\u001b[39m\u001b[39m.\u001b[39msupported_langs, \u001b[39m\"\u001b[39m\u001b[39mLanguage not supported\u001b[39m\u001b[39m\"\u001b[39m\n\u001b[1;32m      8\u001b[0m     \u001b[39mself\u001b[39m\u001b[39m.\u001b[39mlang \u001b[39m=\u001b[39m lang\n\u001b[1;32m      9\u001b[0m     \u001b[39mself\u001b[39m\u001b[39m.\u001b[39muse_translate \u001b[39m=\u001b[39m use_translate\n",
      "\u001b[0;31mAssertionError\u001b[0m: Language not supported"
     ]
    }
   ],
   "source": [
    "import sys\n",
    "sys.path.append(\"/home/jatin/number_extractor/\")\n",
    "from number_extractor import NumberExtractor\n",
    "\n",
    "ne = NumberExtractor(\"en\",use_translate=False,debug=False)"
   ]
  },
  {
   "cell_type": "code",
   "execution_count": 5,
   "metadata": {},
   "outputs": [
    {
     "data": {
      "text/plain": [
       "200000.0"
      ]
     },
     "execution_count": 5,
     "metadata": {},
     "output_type": "execute_result"
    }
   ],
   "source": [
    "ne.extract_number(\"दो लाख पंजाबी रुपये\")"
   ]
  },
  {
   "cell_type": "code",
   "execution_count": 6,
   "metadata": {},
   "outputs": [],
   "source": [
    "text_list = [\n",
    "        \"सौ एकर जमीन है\",\n",
    "        \"पाँच सौ एकर जमीन है\",\n",
    "        \"पांचसौ एकर जमीन है\",\n",
    "        \"पाँच सौ सात एकर जमीन है\",\n",
    "        \"देढ़ एकर जमीन है\",\n",
    "        \"एक दशमलव तीन एकर जमीन है\",\n",
    "        \"501 एकर जमीन है\",\n",
    "        \"आधा एकर जमीन है\",\n",
    "        \"देढ़ एकर जमीन है\",\n",
    "        \"देड़ एकर\",\n",
    "        \"साढ़े छः एकड़ जमीन\",\n",
    "        \"मेरे पास साढ़े दस एकड़ जमीन है\",\n",
    "        \"निश्लसेलिशन चार सौ छः एकर जमीन है\",\n",
    "        \"दो हज़ार पाँच सौ तीस\",\n",
    "        \"पाँच सौ सैतालीस एकर जमीन है\",\n",
    "        \"मेरे पास पात सौ तीस एकर जमीन है\",\n",
    "        \"तिरपन\",\n",
    "        \"सैंतालिस\",\n",
    "        \"दो हज़ार पाँच सौ त्रेपन\",\n",
    "        \"देढ़ सौ एकर जमीन है\",\n",
    "        \"साढ़े छः सौ एकड़ जमीन\",\n",
    "        \"ग्यारह सौ एकर जमीन है\",\n",
    "        \"ढाई सो एकर जमीन\",\n",
    "        \"ढाईसो एकर जमीन\",\n",
    "        \"मेरे परिवार में कुल बारा लोग है\",\n",
    "        \"दो लाख पंद्रह हजार छः सौ इक्कीस\",\n",
    "        \"सोलह करोड़ दो लाख पंद्रह हजार छः सौ इक्कीस\",\n",
    "        \"एक दशमलव तीन एकर जमीन है\",\n",
    "        \"दो दशमलव तीन चार\"\n",
    "    ]"
   ]
  },
  {
   "cell_type": "code",
   "execution_count": 7,
   "metadata": {},
   "outputs": [
    {
     "name": "stdout",
     "output_type": "stream",
     "text": [
      "सौ एकर जमीन है 100.0\n",
      "पाँच सौ एकर जमीन है 500.0\n",
      "पांचसौ एकर जमीन है -1\n",
      "पाँच सौ सात एकर जमीन है 507.0\n",
      "देढ़ एकर जमीन है 1.5\n",
      "एक दशमलव तीन एकर जमीन है 1.3\n",
      "501 एकर जमीन है 501.0\n",
      "आधा एकर जमीन है 0.5\n",
      "देढ़ एकर जमीन है 1.5\n",
      "देड़ एकर 1.5\n",
      "साढ़े छः एकड़ जमीन 6.5\n",
      "मेरे पास साढ़े दस एकड़ जमीन है 10.5\n",
      "निश्लसेलिशन चार सौ छः एकर जमीन है 406.0\n",
      "दो हज़ार पाँच सौ तीस 2530.0\n",
      "पाँच सौ सैतालीस एकर जमीन है 547.0\n",
      "मेरे पास पात सौ तीस एकर जमीन है 130.0\n",
      "तिरपन -1\n",
      "सैंतालिस 47.0\n",
      "दो हज़ार पाँच सौ त्रेपन 2553.0\n",
      "देढ़ सौ एकर जमीन है 150.0\n",
      "साढ़े छः सौ एकड़ जमीन 650.0\n",
      "ग्यारह सौ एकर जमीन है 1100.0\n",
      "ढाई सो एकर जमीन 250.0\n",
      "ढाईसो एकर जमीन 250.0\n",
      "मेरे परिवार में कुल बारा लोग है 12.0\n",
      "दो लाख पंद्रह हजार छः सौ इक्कीस 215621.0\n",
      "सोलह करोड़ दो लाख पंद्रह हजार छः सौ इक्कीस 1815621.0\n",
      "एक दशमलव तीन एकर जमीन है 1.3\n",
      "दो दशमलव तीन चार 2.34\n"
     ]
    }
   ],
   "source": [
    "for text in text_list:\n",
    "    print(text,ne.extract_number(text))"
   ]
  },
  {
   "cell_type": "code",
   "execution_count": null,
   "metadata": {},
   "outputs": [],
   "source": []
  }
 ],
 "metadata": {
  "kernelspec": {
   "display_name": "cotton",
   "language": "python",
   "name": "python3"
  },
  "language_info": {
   "codemirror_mode": {
    "name": "ipython",
    "version": 3
   },
   "file_extension": ".py",
   "mimetype": "text/x-python",
   "name": "python",
   "nbconvert_exporter": "python",
   "pygments_lexer": "ipython3",
   "version": "3.9.16"
  },
  "orig_nbformat": 4
 },
 "nbformat": 4,
 "nbformat_minor": 2
}
